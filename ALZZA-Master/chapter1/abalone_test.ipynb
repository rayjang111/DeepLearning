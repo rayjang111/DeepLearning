{
 "cells": [
  {
   "cell_type": "code",
   "execution_count": 49,
   "metadata": {},
   "outputs": [],
   "source": [
    "%run chapter1_abalone.ipynb"
   ]
  },
  {
   "cell_type": "code",
   "execution_count": 53,
   "metadata": {
    "scrolled": true
   },
   "outputs": [
    {
     "name": "stdout",
     "output_type": "stream",
     "text": [
      "Epoch 1: loss=33.918, accuracy=0.557/0.821\n",
      "Epoch 2: loss=8.357, accuracy=0.818/0.817\n",
      "Epoch 3: loss=7.699, accuracy=0.810/0.812\n",
      "Epoch 4: loss=7.580, accuracy=0.809/0.809\n",
      "Epoch 5: loss=7.502, accuracy=0.807/0.810\n",
      "Epoch 6: loss=7.430, accuracy=0.808/0.809\n",
      "Epoch 7: loss=7.370, accuracy=0.807/0.808\n",
      "Epoch 8: loss=7.320, accuracy=0.807/0.809\n",
      "Epoch 9: loss=7.271, accuracy=0.806/0.812\n",
      "Epoch 10: loss=7.233, accuracy=0.807/0.811\n",
      "\n",
      "Final Test: final accuracy= 0.811\n"
     ]
    }
   ],
   "source": [
    "abalone_exec()"
   ]
  },
  {
   "cell_type": "code",
   "execution_count": 54,
   "metadata": {},
   "outputs": [
    {
     "name": "stdout",
     "output_type": "stream",
     "text": [
      "[[1.04020856]\n",
      " [1.49561206]\n",
      " [1.64134093]\n",
      " [2.05225863]\n",
      " [1.62877296]\n",
      " [0.59886118]\n",
      " [2.37233893]\n",
      " [0.52194335]\n",
      " [0.4722017 ]\n",
      " [1.03067015]]\n"
     ]
    }
   ],
   "source": [
    "print(weight)"
   ]
  },
  {
   "cell_type": "code",
   "execution_count": 55,
   "metadata": {},
   "outputs": [
    {
     "name": "stdout",
     "output_type": "stream",
     "text": [
      "[4.18389014]\n"
     ]
    }
   ],
   "source": [
    "print(bias)"
   ]
  },
  {
   "cell_type": "code",
   "execution_count": 66,
   "metadata": {},
   "outputs": [
    {
     "name": "stdout",
     "output_type": "stream",
     "text": [
      "Epoch 20: loss=6.817, accuracy=0.809/0.817\n",
      "Epoch 40: loss=6.593, accuracy=0.811/0.819\n",
      "Epoch 60: loss=6.428, accuracy=0.814/0.819\n",
      "Epoch 80: loss=6.287, accuracy=0.815/0.823\n",
      "Epoch 100: loss=6.156, accuracy=0.816/0.825\n",
      "Epoch 120: loss=6.036, accuracy=0.818/0.827\n",
      "Epoch 140: loss=5.930, accuracy=0.821/0.827\n",
      "Epoch 160: loss=5.832, accuracy=0.822/0.830\n",
      "Epoch 180: loss=5.744, accuracy=0.822/0.831\n",
      "Epoch 200: loss=5.662, accuracy=0.825/0.834\n",
      "Epoch 220: loss=5.590, accuracy=0.827/0.832\n",
      "Epoch 240: loss=5.523, accuracy=0.827/0.835\n",
      "Epoch 260: loss=5.463, accuracy=0.829/0.834\n",
      "Epoch 280: loss=5.410, accuracy=0.829/0.837\n",
      "Epoch 300: loss=5.359, accuracy=0.831/0.837\n",
      "\n",
      "Final Test: final accuracy= 0.837\n"
     ]
    }
   ],
   "source": [
    "LEARNING_RATE=0.01\n",
    "abalone_exec(epoch_count=300,mb_size=100,report=20)"
   ]
  },
  {
   "cell_type": "code",
   "execution_count": null,
   "metadata": {},
   "outputs": [],
   "source": []
  },
  {
   "cell_type": "code",
   "execution_count": null,
   "metadata": {},
   "outputs": [],
   "source": [
    "y=f(x)"
   ]
  },
  {
   "cell_type": "code",
   "execution_count": null,
   "metadata": {},
   "outputs": [],
   "source": []
  },
  {
   "cell_type": "code",
   "execution_count": null,
   "metadata": {},
   "outputs": [],
   "source": []
  },
  {
   "cell_type": "code",
   "execution_count": null,
   "metadata": {},
   "outputs": [],
   "source": []
  }
 ],
 "metadata": {
  "kernelspec": {
   "display_name": "Python 3",
   "language": "python",
   "name": "python3"
  },
  "language_info": {
   "codemirror_mode": {
    "name": "ipython",
    "version": 3
   },
   "file_extension": ".py",
   "mimetype": "text/x-python",
   "name": "python",
   "nbconvert_exporter": "python",
   "pygments_lexer": "ipython3",
   "version": "3.7.3"
  }
 },
 "nbformat": 4,
 "nbformat_minor": 2
}
