{
 "cells": [
  {
   "cell_type": "markdown",
   "metadata": {},
   "source": [
    "### mlp 실행"
   ]
  },
  {
   "cell_type": "code",
   "execution_count": 17,
   "metadata": {},
   "outputs": [
    {
     "name": "stdout",
     "output_type": "stream",
     "text": [
      "은닉 계층 0개를 갖는 다층 퍼셉트론이 작동되었습니다\n",
      "Epoch 1: loss=33.875, accuracy=0.557/0.812\n",
      "Epoch 2: loss=8.226, accuracy=0.820/0.814\n",
      "Epoch 3: loss=7.582, accuracy=0.812/0.809\n",
      "Epoch 4: loss=7.475, accuracy=0.808/0.811\n",
      "Epoch 5: loss=7.395, accuracy=0.810/0.809\n",
      "Epoch 6: loss=7.328, accuracy=0.808/0.810\n",
      "Epoch 7: loss=7.269, accuracy=0.808/0.811\n",
      "Epoch 8: loss=7.217, accuracy=0.808/0.812\n",
      "Epoch 9: loss=7.175, accuracy=0.810/0.810\n",
      "Epoch 10: loss=7.135, accuracy=0.809/0.810\n",
      "\n",
      "Final Test: final accuracy= 0.810\n"
     ]
    }
   ],
   "source": [
    "%run ../chapter1/myabalone.ipynb\n",
    "%run ../chapter4/mymlp.ipynb\n",
    "set_hidden([])\n",
    "abalone_exec()"
   ]
  },
  {
   "cell_type": "code",
   "execution_count": 18,
   "metadata": {},
   "outputs": [
    {
     "name": "stdout",
     "output_type": "stream",
     "text": [
      "은닉 계층 하나를 갖는 다층 퍼셉트론이 작동되었습니다.\n",
      "Epoch 10: loss=6.849, accuracy=0.806/0.803\n",
      "Epoch 20: loss=6.294, accuracy=0.815/0.812\n",
      "Epoch 30: loss=5.572, accuracy=0.827/0.840\n",
      "Epoch 40: loss=5.105, accuracy=0.835/0.842\n",
      "Epoch 50: loss=4.955, accuracy=0.838/0.837\n",
      "\n",
      "Final Test: final accuracy= 0.837\n"
     ]
    }
   ],
   "source": [
    "set_hidden(4)\n",
    "abalone_exec(epoch_count=50,report=10)"
   ]
  },
  {
   "cell_type": "code",
   "execution_count": 19,
   "metadata": {},
   "outputs": [
    {
     "name": "stdout",
     "output_type": "stream",
     "text": [
      "은닉 계층 하나를 갖는 다층 퍼셉트론이 작동되었습니다.\n",
      "Epoch 10: loss=6.757, accuracy=0.808/0.813\n",
      "Epoch 20: loss=6.255, accuracy=0.817/0.817\n",
      "Epoch 30: loss=5.554, accuracy=0.829/0.819\n",
      "Epoch 40: loss=5.093, accuracy=0.837/0.845\n",
      "Epoch 50: loss=4.948, accuracy=0.840/0.827\n",
      "\n",
      "Final Test: final accuracy= 0.827\n"
     ]
    }
   ],
   "source": [
    "abalone_exec(epoch_count=50,report=10)"
   ]
  },
  {
   "cell_type": "code",
   "execution_count": null,
   "metadata": {},
   "outputs": [],
   "source": []
  },
  {
   "cell_type": "code",
   "execution_count": null,
   "metadata": {},
   "outputs": [],
   "source": []
  },
  {
   "cell_type": "code",
   "execution_count": null,
   "metadata": {},
   "outputs": [],
   "source": []
  },
  {
   "cell_type": "code",
   "execution_count": null,
   "metadata": {},
   "outputs": [],
   "source": []
  },
  {
   "cell_type": "code",
   "execution_count": null,
   "metadata": {},
   "outputs": [],
   "source": []
  },
  {
   "cell_type": "code",
   "execution_count": null,
   "metadata": {},
   "outputs": [],
   "source": []
  },
  {
   "cell_type": "code",
   "execution_count": null,
   "metadata": {},
   "outputs": [],
   "source": []
  }
 ],
 "metadata": {
  "kernelspec": {
   "display_name": "Python 3",
   "language": "python",
   "name": "python3"
  },
  "language_info": {
   "codemirror_mode": {
    "name": "ipython",
    "version": 3
   },
   "file_extension": ".py",
   "mimetype": "text/x-python",
   "name": "python",
   "nbconvert_exporter": "python",
   "pygments_lexer": "ipython3",
   "version": "3.7.3"
  }
 },
 "nbformat": 4,
 "nbformat_minor": 2
}
