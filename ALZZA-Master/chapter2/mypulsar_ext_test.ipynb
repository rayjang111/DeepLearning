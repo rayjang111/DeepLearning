{
 "cells": [
  {
   "cell_type": "code",
   "execution_count": 35,
   "metadata": {},
   "outputs": [],
   "source": [
    "%run mypulsar_ext.ipynb"
   ]
  },
  {
   "cell_type": "code",
   "execution_count": 36,
   "metadata": {},
   "outputs": [
    {
     "name": "stderr",
     "output_type": "stream",
     "text": [
      "C:\\Users\\edu\\Anaconda3\\lib\\site-packages\\ipykernel_launcher.py:3: RuntimeWarning: overflow encountered in square\n",
      "  This is separate from the ipykernel package so we can avoid doing imports until\n",
      "C:\\Users\\edu\\Anaconda3\\lib\\site-packages\\ipykernel_launcher.py:8: RuntimeWarning: overflow encountered in matmul\n",
      "  \n",
      "C:\\Users\\edu\\Anaconda3\\lib\\site-packages\\ipykernel_launcher.py:3: RuntimeWarning: invalid value encountered in matmul\n",
      "  This is separate from the ipykernel package so we can avoid doing imports until\n",
      "C:\\Users\\edu\\Anaconda3\\lib\\site-packages\\ipykernel_launcher.py:2: RuntimeWarning: invalid value encountered in greater\n",
      "  \n",
      "C:\\Users\\edu\\Anaconda3\\lib\\site-packages\\ipykernel_launcher.py:8: RuntimeWarning: invalid value encountered in matmul\n",
      "  \n"
     ]
    },
    {
     "name": "stdout",
     "output_type": "stream",
     "text": [
      "Epoch 1: loss=  nan, result=0.911,0.000,0.000,0.000\n",
      "Epoch 2: loss=  nan, result=0.911,0.000,0.000,0.000\n",
      "Epoch 3: loss=  nan, result=0.911,0.000,0.000,0.000\n",
      "Epoch 4: loss=  nan, result=0.911,0.000,0.000,0.000\n",
      "Epoch 5: loss=  nan, result=0.911,0.000,0.000,0.000\n",
      "Epoch 6: loss=  nan, result=0.911,0.000,0.000,0.000\n",
      "Epoch 7: loss=  nan, result=0.911,0.000,0.000,0.000\n",
      "Epoch 8: loss=  nan, result=0.911,0.000,0.000,0.000\n",
      "Epoch 9: loss=  nan, result=0.911,0.000,0.000,0.000\n",
      "Epoch 10: loss=  nan, result=0.911,0.000,0.000,0.000\n",
      "\n",
      "Final Test: final result = 0.911,0.000,0.000,0.000\n"
     ]
    }
   ],
   "source": [
    "dajust_ratio=1\n",
    "pulsar_exec()"
   ]
  },
  {
   "cell_type": "code",
   "execution_count": 37,
   "metadata": {},
   "outputs": [
    {
     "name": "stderr",
     "output_type": "stream",
     "text": [
      "C:\\Users\\edu\\Anaconda3\\lib\\site-packages\\ipykernel_launcher.py:3: RuntimeWarning: overflow encountered in square\n",
      "  This is separate from the ipykernel package so we can avoid doing imports until\n",
      "C:\\Users\\edu\\Anaconda3\\lib\\site-packages\\ipykernel_launcher.py:8: RuntimeWarning: overflow encountered in matmul\n",
      "  \n",
      "C:\\Users\\edu\\Anaconda3\\lib\\site-packages\\ipykernel_launcher.py:8: RuntimeWarning: invalid value encountered in matmul\n",
      "  \n",
      "C:\\Users\\edu\\Anaconda3\\lib\\site-packages\\ipykernel_launcher.py:10: RuntimeWarning: invalid value encountered in subtract\n",
      "  # Remove the CWD from sys.path while we load stuff.\n",
      "C:\\Users\\edu\\Anaconda3\\lib\\site-packages\\ipykernel_launcher.py:2: RuntimeWarning: invalid value encountered in greater\n",
      "  \n"
     ]
    },
    {
     "name": "stdout",
     "output_type": "stream",
     "text": [
      "Epoch 1: loss=  nan, result=0.508,0.000,0.000,0.000\n",
      "Epoch 2: loss=  nan, result=0.508,0.000,0.000,0.000\n",
      "Epoch 3: loss=  nan, result=0.508,0.000,0.000,0.000\n",
      "Epoch 4: loss=  nan, result=0.508,0.000,0.000,0.000\n",
      "Epoch 5: loss=  nan, result=0.508,0.000,0.000,0.000\n",
      "Epoch 6: loss=  nan, result=0.508,0.000,0.000,0.000\n",
      "Epoch 7: loss=  nan, result=0.508,0.000,0.000,0.000\n",
      "Epoch 8: loss=  nan, result=0.508,0.000,0.000,0.000\n",
      "Epoch 9: loss=  nan, result=0.508,0.000,0.000,0.000\n",
      "Epoch 10: loss=  nan, result=0.508,0.000,0.000,0.000\n",
      "\n",
      "Final Test: final result = 0.508,0.000,0.000,0.000\n"
     ]
    }
   ],
   "source": [
    "pulsar_exec(adjust_ratio=True)"
   ]
  },
  {
   "cell_type": "code",
   "execution_count": null,
   "metadata": {},
   "outputs": [],
   "source": []
  },
  {
   "cell_type": "code",
   "execution_count": null,
   "metadata": {},
   "outputs": [],
   "source": []
  },
  {
   "cell_type": "code",
   "execution_count": null,
   "metadata": {},
   "outputs": [],
   "source": []
  },
  {
   "cell_type": "code",
   "execution_count": null,
   "metadata": {},
   "outputs": [],
   "source": []
  },
  {
   "cell_type": "code",
   "execution_count": null,
   "metadata": {},
   "outputs": [],
   "source": []
  },
  {
   "cell_type": "code",
   "execution_count": null,
   "metadata": {},
   "outputs": [],
   "source": []
  },
  {
   "cell_type": "code",
   "execution_count": null,
   "metadata": {},
   "outputs": [],
   "source": []
  },
  {
   "cell_type": "code",
   "execution_count": null,
   "metadata": {},
   "outputs": [],
   "source": []
  }
 ],
 "metadata": {
  "kernelspec": {
   "display_name": "Python 3",
   "language": "python",
   "name": "python3"
  },
  "language_info": {
   "codemirror_mode": {
    "name": "ipython",
    "version": 3
   },
   "file_extension": ".py",
   "mimetype": "text/x-python",
   "name": "python",
   "nbconvert_exporter": "python",
   "pygments_lexer": "ipython3",
   "version": "3.7.3"
  }
 },
 "nbformat": 4,
 "nbformat_minor": 2
}
