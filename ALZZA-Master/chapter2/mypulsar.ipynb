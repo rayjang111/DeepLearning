{
 "cells": [
  {
   "cell_type": "markdown",
   "metadata": {},
   "source": [
    "### abalone 데이터 재활용"
   ]
  },
  {
   "cell_type": "code",
   "execution_count": 2,
   "metadata": {},
   "outputs": [],
   "source": [
    "%run ../chapter1/chapter1_abalone.ipynb"
   ]
  },
  {
   "cell_type": "markdown",
   "metadata": {},
   "source": [
    "#### 메인함수정의"
   ]
  },
  {
   "cell_type": "code",
   "execution_count": null,
   "metadata": {},
   "outputs": [],
   "source": [
    "def pulsar_exec(epoch_count=10,mb_size=10,report=1):\n",
    "    load_pulsar_dataset()\n",
    "    init_model()\n",
    "    train_and_test(epoch_count,mb_size,report)\n"
   ]
  },
  {
   "cell_type": "markdown",
   "metadata": {},
   "source": [
    "### 데이터불러오기"
   ]
  },
  {
   "cell_type": "code",
   "execution_count": 4,
   "metadata": {},
   "outputs": [],
   "source": [
    "def load_pulsar_dataset():\n",
    "    with open('../../data/chap02/pulsar_stars.csv') as csvfile:\n",
    "        csvreader=csv.reader(csvfile)\n",
    "        next(csvreader,None)\n",
    "        rows=[]\n",
    "        for row in csvreader:\n",
    "            rows.append(row)\n",
    "    \n",
    "    global data,input_cnt, output_cnt\n",
    "    input_cnt, output_cnt= 8,1\n",
    "    data= np.asarray(rows,dtype='float32')\n",
    "    "
   ]
  },
  {
   "cell_type": "markdown",
   "metadata": {},
   "source": [
    "### 후처리과정에 대한 순전파와 역전파 함수의 재정의"
   ]
  },
  {
   "cell_type": "code",
   "execution_count": 5,
   "metadata": {},
   "outputs": [],
   "source": [
    "def forward_postproc(output,y):\n",
    "    entropy=sigmoid_cross_entropy_with_logits(y,output)\n",
    "    loss= np.mean(entropy)\n",
    "    return loss , [y,output, entropy]\n",
    "def backprop_postproc(G_loss,aux):\n",
    "    y,output,entropy= aux\n",
    "    \n",
    "    g_loss_entropy=1.0/ np.prod(entropy.shape)\n",
    "    g_entropy_output=sigmoid_cross_entropy_with_logits_derv(y,output)\n",
    "    \n",
    "    G_entropy=g_loss_entropy*G_loss\n",
    "    G_output=g_entropy_output * G_entropy\n",
    "    \n",
    "    return G_output\n",
    "    \n",
    "    \n",
    "    \n",
    "    \n",
    "    \n",
    "    "
   ]
  },
  {
   "cell_type": "markdown",
   "metadata": {},
   "source": [
    "### 점수평가"
   ]
  },
  {
   "cell_type": "code",
   "execution_count": null,
   "metadata": {},
   "outputs": [],
   "source": [
    "def eval_accuracy(output,y):\n",
    "    estimate=np.greater(output,0)\n",
    "    answer=np.greater(y,0.5)\n",
    "    correct=np.equal(estimate,answer)\n",
    "    return np.mean(correct)"
   ]
  },
  {
   "cell_type": "markdown",
   "metadata": {},
   "source": [
    "#### 활성화함수들 정의"
   ]
  },
  {
   "cell_type": "code",
   "execution_count": 8,
   "metadata": {},
   "outputs": [],
   "source": [
    "def relu(x):\n",
    "    return np.maximum(x,0)\n",
    "def sigmoid(x):\n",
    "    return np.exp(-relu(-x))/(1.0+np.exp(-np.abs(x)))\n",
    "def sigmoid_derv(x,y):\n",
    "    return y*(1-y)\n",
    "def sigmoid_cross_entropy_with_logits(z,x):\n",
    "    return relu(x) - x*z+np.log(1+np.exp(-np.abs(x)))\n",
    "\n",
    "def sigmoid_cross_entropy_with_logits_derv(z,x):\n",
    "    return -z+sigmoid(x)\n",
    "\n"
   ]
  }
 ],
 "metadata": {
  "kernelspec": {
   "display_name": "Python 3",
   "language": "python",
   "name": "python3"
  },
  "language_info": {
   "codemirror_mode": {
    "name": "ipython",
    "version": 3
   },
   "file_extension": ".py",
   "mimetype": "text/x-python",
   "name": "python",
   "nbconvert_exporter": "python",
   "pygments_lexer": "ipython3",
   "version": "3.7.3"
  }
 },
 "nbformat": 4,
 "nbformat_minor": 2
}
